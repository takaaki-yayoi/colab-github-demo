{
  "nbformat": 4,
  "nbformat_minor": 0,
  "metadata": {
    "colab": {
      "provenance": [],
      "authorship_tag": "ABX9TyPwUu/ftGcoz4uUj9LIY3c8",
      "include_colab_link": true
    },
    "kernelspec": {
      "name": "python3",
      "display_name": "Python 3"
    },
    "language_info": {
      "name": "python"
    }
  },
  "cells": [
    {
      "cell_type": "markdown",
      "metadata": {
        "id": "view-in-github",
        "colab_type": "text"
      },
      "source": [
        "<a href=\"https://colab.research.google.com/github/takaaki-yayoi/colab-github-demo/blob/main/Github.ipynb\" target=\"_parent\"><img src=\"https://colab.research.google.com/assets/colab-badge.svg\" alt=\"Open In Colab\"/></a>"
      ]
    },
    {
      "cell_type": "code",
      "execution_count": null,
      "metadata": {
        "colab": {
          "base_uri": "https://localhost:8080/"
        },
        "id": "sqzgpE9NwnW9",
        "outputId": "15e94fb7-8c2e-4eac-eac7-24328d66c36f"
      },
      "outputs": [
        {
          "output_type": "stream",
          "name": "stdout",
          "text": [
            "Cloning into 'colab-github-demo'...\n",
            "remote: Enumerating objects: 5, done.\u001b[K\n",
            "remote: Counting objects: 100% (5/5), done.\u001b[K\n",
            "remote: Compressing objects: 100% (5/5), done.\u001b[K\n",
            "remote: Total 5 (delta 0), reused 0 (delta 0), pack-reused 0 (from 0)\u001b[K\n",
            "Receiving objects: 100% (5/5), done.\n"
          ]
        }
      ],
      "source": [
        "!git clone https://github.com/takaakiy-sys/colab-github-demo.git"
      ]
    },
    {
      "cell_type": "code",
      "source": [
        "%cd colab-github-demo"
      ],
      "metadata": {
        "colab": {
          "base_uri": "https://localhost:8080/"
        },
        "id": "U_6o67ZzxTL9",
        "outputId": "98833887-db09-48a7-eb7c-7cd8c9be6ea2"
      },
      "execution_count": null,
      "outputs": [
        {
          "output_type": "stream",
          "name": "stdout",
          "text": [
            "/content/colab-github-demo\n"
          ]
        }
      ]
    },
    {
      "cell_type": "code",
      "source": [
        "%ls"
      ],
      "metadata": {
        "colab": {
          "base_uri": "https://localhost:8080/"
        },
        "id": "dTwNNubqxTtl",
        "outputId": "4351d552-9911-4c8d-93d2-dd2342a51067"
      },
      "execution_count": null,
      "outputs": [
        {
          "output_type": "stream",
          "name": "stdout",
          "text": [
            "LICENSE  README.md\n"
          ]
        }
      ]
    },
    {
      "cell_type": "code",
      "metadata": {
        "id": "ae5c9ba2"
      },
      "source": [
        "# ファイルを追加\n",
        "with open('hello.txt', 'w') as f:\n",
        "  f.write('Hello, world!')"
      ],
      "execution_count": null,
      "outputs": []
    },
    {
      "cell_type": "code",
      "source": [
        "from google.colab import userdata\n",
        "import os\n",
        "\n",
        "token = userdata.get('GITHUB_TOKEN')\n",
        "username = \"takaakiy-sys\"\n",
        "email = \"takaaki.y@infratop.jp\"\n",
        "repo = \"colab-github-demo\"\n",
        "\n",
        "# Gitの認証情報を設定: ユーザー名とメールアドレスの両方が必要\n",
        "os.system(f'git config --global user.name {username}')\n",
        "os.system(f'git config --global user.email {email}')\n",
        "\n",
        "# リモートURLを設定\n",
        "os.chdir(f\"/content/{repo}\")  # リポジトリのディレクトリに移動\n",
        "!git remote set-url origin https://{token}@github.com/{username}/{repo}.git\n",
        "\n",
        "# これでpush/pullが可能に\n",
        "!git add .\n",
        "!git commit -m \"Update from Colab\"\n",
        "\n",
        "# git push origin mainは、ローカルの変更をGitHubのリモートリポジトリに送信（アップロード）するコマンドです。\n",
        "# 各部分の意味:\n",
        "# git push = プッシュ（送信）する\n",
        "# origin = リモートリポジトリの名前（デフォルトで\"origin\"）\n",
        "# main = ブランチ名（昔は\"master\"が主流でしたが、現在は\"main\"が標準)\n",
        "!git push origin main"
      ],
      "metadata": {
        "colab": {
          "base_uri": "https://localhost:8080/"
        },
        "id": "6E_ghkk1x_fM",
        "outputId": "06749176-e6cd-4945-d372-274557ac0072"
      },
      "execution_count": null,
      "outputs": [
        {
          "output_type": "stream",
          "name": "stdout",
          "text": [
            "[main 04876f0] Update from Colab\n",
            " 1 file changed, 1 insertion(+)\n",
            " create mode 100644 hello.txt\n",
            "Enumerating objects: 4, done.\n",
            "Counting objects: 100% (4/4), done.\n",
            "Delta compression using up to 2 threads\n",
            "Compressing objects: 100% (2/2), done.\n",
            "Writing objects: 100% (3/3), 289 bytes | 289.00 KiB/s, done.\n",
            "Total 3 (delta 1), reused 0 (delta 0), pack-reused 0\n",
            "remote: Resolving deltas: 100% (1/1), completed with 1 local object.\u001b[K\n",
            "To https://github.com/takaakiy-sys/colab-github-demo.git\n",
            "   72d9943..04876f0  main -> main\n"
          ]
        }
      ]
    },
    {
      "cell_type": "markdown",
      "source": [
        "[![Open In Colab](https://colab.research.google.com/assets/colab-badge.svg)](https://colab.research.google.com/github/takaakiy-sys/takaakiy-sys/blob/main/hello.txt)"
      ],
      "metadata": {
        "id": "68myqR7s5LTk"
      }
    },
    {
      "cell_type": "code",
      "source": [],
      "metadata": {
        "id": "vvMcgW7_1fYJ"
      },
      "execution_count": null,
      "outputs": []
    }
  ]
}